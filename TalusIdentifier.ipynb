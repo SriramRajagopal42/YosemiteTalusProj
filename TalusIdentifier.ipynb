{
  "nbformat": 4,
  "nbformat_minor": 0,
  "metadata": {
    "colab": {
      "provenance": [],
      "collapsed_sections": [],
      "authorship_tag": "ABX9TyPfKbCVBawEH1WdGH6ro/Kz",
      "include_colab_link": true
    },
    "kernelspec": {
      "name": "python3",
      "display_name": "Python 3"
    },
    "language_info": {
      "name": "python"
    }
  },
  "cells": [
    {
      "cell_type": "markdown",
      "metadata": {
        "id": "view-in-github",
        "colab_type": "text"
      },
      "source": [
        "<a href=\"https://colab.research.google.com/github/SriramRajagopal42/YosemiteTalusProj/blob/main/TalusIdentifier.ipynb\" target=\"_parent\"><img src=\"https://colab.research.google.com/assets/colab-badge.svg\" alt=\"Open In Colab\"/></a>"
      ]
    },
    {
      "cell_type": "code",
      "execution_count": 1,
      "metadata": {
        "id": "SUUGKBv7JABg",
        "colab": {
          "base_uri": "https://localhost:8080/"
        },
        "outputId": "412b28bc-2fe9-4176-8861-534768fa32f2"
      },
      "outputs": [
        {
          "output_type": "stream",
          "name": "stdout",
          "text": [
            "Mounted at /content/drive\n"
          ]
        }
      ],
      "source": [
        "# Purpose: Import data stored in Google Drive\n",
        "\n",
        "from google.colab import drive\n",
        "drive.mount('/content/drive')"
      ]
    },
    {
      "cell_type": "code",
      "source": [
        "# Purpose: Imports\n",
        "\n",
        "import os\n",
        "\n",
        "import random\n",
        "\n",
        "import numpy as np\n",
        "\n",
        "import tensorflow as tf\n",
        "from tensorflow import keras\n",
        "from tensorflow.keras.preprocessing.image import load_img\n",
        "\n",
        "import PIL\n",
        "from PIL import ImageOps\n",
        "from PIL import Image\n",
        "\n",
        "from sklearn.utils import shuffle\n",
        "\n",
        "import gdal\n",
        "from gdalconst import *"
      ],
      "metadata": {
        "id": "E68eqTx4lsnE"
      },
      "execution_count": 12,
      "outputs": []
    },
    {
      "cell_type": "code",
      "source": [
        "# Purpose: Basic Info\n",
        "\n",
        "img_size = (256, 256)\n",
        "num_classes = 2\n",
        "num_channels = 6\n",
        "batch_size = 1\n",
        "tilesize = 256\n",
        "\n",
        "satellite_file = '/content/drive/MyDrive/Yosemite/KingsCanyon_Satellite.tif' #Enter your Satellite tif file path\n",
        "dem_file = '/content/drive/MyDrive/Yosemite/KingsCanyon_DEM_WGS.tif' #Enter your DEM tif file path\n",
        "slope_file = '/content/drive/MyDrive/Yosemite/KingsCanyon_Slope.tif' #Enter your Slope tif file path\n",
        "aspect_file = '/content/drive/MyDrive/Yosemite/KingsCanyon_Aspect.tif' #Enter your Aspect tif file path\n",
        "\n",
        "input_dir = '/content/drive/MyDrive/MegaNumpy' #Enter your empty Input Folder directory\n",
        "satellite_dir = '/content/drive/MyDrive/Chunks/SatelliteChunks' #Enter your empty Satellite Chunks Folder directory\n",
        "dem_dir = '/content/drive/MyDrive/Chunks/KingsCanyonChunks' #Enter your empty DEM Chunks Folder directory\n",
        "slope_dir = '/content/drive/MyDrive/Chunks/SlopeChunks' #Enter your empty Slope Chunks Folder directory\n",
        "aspect_dir = '/content/drive/MyDrive/Chunks/AspectChunks' #Enter your empty Aspect Chunks Folder directory\n",
        "\n",
        "output_dir = '/content/drive/MyDrive/TempOutput' #Enter your empty output directory to store the final image\n",
        "model_dir = '/content/model.h5' #Enter your model directory\n",
        "\n",
        "temp = Image.open(dem_file)\n",
        "width, height = temp.size"
      ],
      "metadata": {
        "id": "1e2wbuGQR2K-"
      },
      "execution_count": 14,
      "outputs": []
    },
    {
      "cell_type": "code",
      "source": [
        "# Purpose: Turn all of the data into chunks, then add those chunks together and turn them into arrays\n",
        "\n",
        "for i in range(0, width, tilesize):\n",
        "    for j in range(0, height, tilesize):\n",
        "        gdaltranString = \"gdal_translate -of GTIFF -srcwin \"+str(i)+\", \"+str(j)+\", \"+str(tilesize)+\", \" \\\n",
        "            +str(tilesize)+\" \" + satellite_dir + \" SatelliteChunk_\"+str(i)+\"_\"+str(j)+\".tif\"\n",
        "        os.system(gdaltranString)\n",
        "!mv SatelliteChunk* /content/drive/MyDrive/Chunks/SatelliteChunks #Enter your empty Satellite Chunks Folder directory (no quotation marks)\n",
        "\n",
        "for i in range(0, width, tilesize):\n",
        "    for j in range(0, height, tilesize):\n",
        "        gdaltranString = \"gdal_translate -of GTIFF -srcwin \"+str(i)+\", \"+str(j)+\", \"+str(tilesize)+\", \" \\\n",
        "            +str(tilesize)+\" \" + dem_dir + \" DEMChunk_\"+str(i)+\"_\"+str(j)+\".tif\"\n",
        "        os.system(gdaltranString)\n",
        "!mv DEMChunk* /content/drive/MyDrive/Chunks/KingsCanyonChunks #Enter your empty DEM Chunks Folder directory (no quotation marks)\n",
        "\n",
        "for i in range(0, width, tilesize):\n",
        "    for j in range(0, height, tilesize):\n",
        "        gdaltranString = \"gdal_translate -of GTIFF -srcwin \"+str(i)+\", \"+str(j)+\", \"+str(tilesize)+\", \" \\\n",
        "            +str(tilesize)+\" \" + slope_dir + \" SlopeChunk_\"+str(i)+\"_\"+str(j)+\".tif\"\n",
        "        os.system(gdaltranString)\n",
        "!mv SlopeChunk* /content/drive/MyDrive/Chunks/SlopeChunks #Enter your empty Slope Chunks Folder directory (no quotation marks)\n",
        "\n",
        "for i in range(0, width, tilesize):\n",
        "    for j in range(0, height, tilesize):\n",
        "        gdaltranString = \"gdal_translate -of GTIFF -srcwin \"+str(i)+\", \"+str(j)+\", \"+str(tilesize)+\", \" \\\n",
        "            +str(tilesize)+\" \" + aspect_dir + \" AspectChunk_\"+str(i)+\"_\"+str(j)+\".tif\"\n",
        "        os.system(gdaltranString)\n",
        "!mv AspectChunk* /content/drive/MyDrive/Chunks/AspectChunks #Enter your empty Aspect Chunks Folder directory (no quotation marks)\n",
        "\n",
        "#---------------------------------------------------------------------------------\n",
        "\n",
        "def create_megachunk(rgb_paths, elevation_paths, slope_paths, aspect_paths):\n",
        "    for f_rgb, f_ele, f_slope, f_aspect in zip(rgb_paths, elevation_paths, slope_paths, aspect_paths):\n",
        "        rgb_array = np.array(load_img(f_rgb))\n",
        "        r = rgb_array[..., 0]\n",
        "        g = rgb_array[..., 1]\n",
        "        b = rgb_array[..., 2]\n",
        "\n",
        "        elevation = np.array(load_img(f_ele))\n",
        "        elevation = elevation[..., 0]\n",
        "\n",
        "        slope = np.array(load_img(f_slope))\n",
        "        slope = slope[..., 0]\n",
        "\n",
        "        aspect = np.array(load_img(f_aspect))\n",
        "        aspect = aspect[..., 0]\n",
        "\n",
        "        megachunk =  np.stack([r, g, b, elevation, slope, aspect], axis=-1)\n",
        "        i_index, j_index = f_rgb.split(\".\")[0].split(\"_\")[1:]\n",
        "        np.save(\"megachunk_{}_{}.npy\".format(i_index, j_index), megachunk)\n",
        "\n",
        "#--------------------------------------------------------------------------------\n",
        "\n",
        "rgbpth = sorted(\n",
        "            [\n",
        "                os.path.join(str(satellite_dir), fname)\n",
        "                for fname in os.listdir(str(satellite_dir))\n",
        "            ]\n",
        "        )\n",
        "\n",
        "dempth = sorted(\n",
        "            [\n",
        "                os.path.join(str(dem_dir), fname)\n",
        "                for fname in os.listdir(str(dem_dir))\n",
        "            ]\n",
        "        )\n",
        "\n",
        "slopepth = sorted(\n",
        "            [\n",
        "                os.path.join(str(slope_dir), fname)\n",
        "                for fname in os.listdir(str(slope_dir))\n",
        "            ]\n",
        "        )\n",
        "\n",
        "aspectpth = sorted(\n",
        "            [\n",
        "                os.path.join(str(aspect_dir), fname)\n",
        "                for fname in os.listdir(str(aspect_dir))\n",
        "            ]\n",
        "        )\n",
        "\n",
        "\n",
        "create_megachunk(rgbpth, dempth, slopepth, aspectpth)\n",
        "\n",
        "!mv megachunk* /content/drive/MyDrive/MegaNumpy #Enter your empty Input Folder directory (no quotation marks)"
      ],
      "metadata": {
        "id": "P5GunZh8A7bz"
      },
      "execution_count": null,
      "outputs": []
    },
    {
      "cell_type": "code",
      "source": [
        "# Purpose: Helper to iterate over the data (as Numpy arrays)\n",
        "\n",
        "class TalusIdentifier(keras.utils.Sequence):\n",
        "\n",
        "    def __init__(self, batch_size, img_size, input_img_paths, channels):\n",
        "        self.batch_size = batch_size\n",
        "        self.img_size = img_size\n",
        "        self.input_img_paths = input_img_paths\n",
        "        self.channels = channels\n",
        "\n",
        "    def __len__(self):\n",
        "        return len(self.input_img_paths) // self.batch_size\n",
        "\n",
        "    def __getitem__(self, idx):\n",
        "        i = idx * self.batch_size\n",
        "        batch_input_img_paths = self.input_img_paths[i : i + self.batch_size]\n",
        "        x = np.zeros((self.batch_size,) + self.img_size + (6,), dtype=\"uint8\")\n",
        "        for j, path in enumerate(batch_input_img_paths):\n",
        "            img = np.load(path)\n",
        "            x[j] = img\n",
        "        \n",
        "        return x\n"
      ],
      "metadata": {
        "id": "OrdGxg8Ckykk"
      },
      "execution_count": 15,
      "outputs": []
    },
    {
      "cell_type": "code",
      "source": [
        "# Purpose: Split Data into training/validation\n",
        "\n",
        "input_pths = sorted(\n",
        "    [\n",
        "        os.path.join(input_dir, fname)\n",
        "        for fname in os.listdir(input_dir)\n",
        "    ]\n",
        ")\n",
        "\n",
        "val_gen = TalusIdentifier(batch_size, img_size, input_pths, num_channels)\n",
        "\n",
        "new_model = tf.keras.models.load_model(model_dir)\n",
        "\n",
        "val_preds = new_model.predict(val_gen)\n",
        "\n",
        "A = np.zeros((((height // 256) + 1 ) * 256, ((width // 256) + 1 ) * 256))\n",
        "for i in range(len(input_pths)):\n",
        "  i_start, j_start = input_pths[i].split(\".\")[0].split(\"_\")[-2:]\n",
        "  i_start, j_start = int(i_start), int(j_start)\n",
        "  A[j_start: j_start + img_size[1], i_start: i_start + img_size[0]] = np.argmax(val_preds[i], axis=-1)\n",
        "\n",
        "B = A[:height, :width]\n",
        "B = np.expand_dims(B, axis=-1)\n",
        "img = PIL.ImageOps.autocontrast(keras.preprocessing.image.array_to_img(B))\n",
        "img.save(os.path.join(output_dir, 'final.jpg'))\n",
        "display(img)"
      ],
      "metadata": {
        "id": "0gSw7plNlYYV",
        "colab": {
          "base_uri": "https://localhost:8080/",
          "height": 769
        },
        "outputId": "c58b394e-f507-4eb6-aabe-673505e33683"
      },
      "execution_count": 16,
      "outputs": [
        {
          "output_type": "display_data",
          "data": {
            "text/plain": [
              "<PIL.Image.Image image mode=L size=3675x1847 at 0x7F06BE4AC090>"
            ],
            "image/png": "[encoded data removed]"
          },
          "metadata": {}
        }
      ]
    }
  ]
}